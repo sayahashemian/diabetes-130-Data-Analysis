{
 "cells": [
  {
   "cell_type": "code",
   "execution_count": 1,
   "metadata": {
    "id": "7T5nHAw6HRuq"
   },
   "outputs": [],
   "source": [
    "import numpy as np\n",
    "import pandas as pd\n",
    "import seaborn as sns\n",
    "import matplotlib.pyplot as plt\n",
    "from sklearn.decomposition import PCA\n",
    "from sklearn.cluster import KMeans\n",
    "from sklearn.preprocessing import StandardScaler\n",
    "from sklearn.model_selection import train_test_split\n",
    "from sklearn.preprocessing import LabelEncoder\n",
    "from sklearn.neural_network import MLPClassifier\n",
    "from sklearn.metrics import accuracy_score, classification_report"
   ]
  },
  {
   "cell_type": "code",
   "execution_count": 2,
   "metadata": {
    "id": "GKNjUAuXM0D4"
   },
   "outputs": [],
   "source": [
    "df = pd.read_csv(\"diabetic_data.csv\")"
   ]
  },
  {
   "cell_type": "code",
   "execution_count": 3,
   "metadata": {
    "colab": {
     "base_uri": "https://localhost:8080/",
     "height": 399
    },
    "id": "5LGunIIwN2UV",
    "outputId": "2005994d-56bf-4ce3-cfc6-f5b113389b78"
   },
   "outputs": [
    {
     "data": {
      "text/html": [
       "<div>\n",
       "<style scoped>\n",
       "    .dataframe tbody tr th:only-of-type {\n",
       "        vertical-align: middle;\n",
       "    }\n",
       "\n",
       "    .dataframe tbody tr th {\n",
       "        vertical-align: top;\n",
       "    }\n",
       "\n",
       "    .dataframe thead th {\n",
       "        text-align: right;\n",
       "    }\n",
       "</style>\n",
       "<table border=\"1\" class=\"dataframe\">\n",
       "  <thead>\n",
       "    <tr style=\"text-align: right;\">\n",
       "      <th></th>\n",
       "      <th>encounter_id</th>\n",
       "      <th>patient_nbr</th>\n",
       "      <th>race</th>\n",
       "      <th>gender</th>\n",
       "      <th>age</th>\n",
       "      <th>weight</th>\n",
       "      <th>admission_type_id</th>\n",
       "      <th>discharge_disposition_id</th>\n",
       "      <th>admission_source_id</th>\n",
       "      <th>time_in_hospital</th>\n",
       "      <th>...</th>\n",
       "      <th>citoglipton</th>\n",
       "      <th>insulin</th>\n",
       "      <th>glyburide-metformin</th>\n",
       "      <th>glipizide-metformin</th>\n",
       "      <th>glimepiride-pioglitazone</th>\n",
       "      <th>metformin-rosiglitazone</th>\n",
       "      <th>metformin-pioglitazone</th>\n",
       "      <th>change</th>\n",
       "      <th>diabetesMed</th>\n",
       "      <th>readmitted</th>\n",
       "    </tr>\n",
       "  </thead>\n",
       "  <tbody>\n",
       "    <tr>\n",
       "      <th>0</th>\n",
       "      <td>2278392</td>\n",
       "      <td>8222157</td>\n",
       "      <td>Caucasian</td>\n",
       "      <td>Female</td>\n",
       "      <td>[0-10)</td>\n",
       "      <td>?</td>\n",
       "      <td>6</td>\n",
       "      <td>25</td>\n",
       "      <td>1</td>\n",
       "      <td>1</td>\n",
       "      <td>...</td>\n",
       "      <td>No</td>\n",
       "      <td>No</td>\n",
       "      <td>No</td>\n",
       "      <td>No</td>\n",
       "      <td>No</td>\n",
       "      <td>No</td>\n",
       "      <td>No</td>\n",
       "      <td>No</td>\n",
       "      <td>No</td>\n",
       "      <td>NO</td>\n",
       "    </tr>\n",
       "    <tr>\n",
       "      <th>1</th>\n",
       "      <td>149190</td>\n",
       "      <td>55629189</td>\n",
       "      <td>Caucasian</td>\n",
       "      <td>Female</td>\n",
       "      <td>[10-20)</td>\n",
       "      <td>?</td>\n",
       "      <td>1</td>\n",
       "      <td>1</td>\n",
       "      <td>7</td>\n",
       "      <td>3</td>\n",
       "      <td>...</td>\n",
       "      <td>No</td>\n",
       "      <td>Up</td>\n",
       "      <td>No</td>\n",
       "      <td>No</td>\n",
       "      <td>No</td>\n",
       "      <td>No</td>\n",
       "      <td>No</td>\n",
       "      <td>Ch</td>\n",
       "      <td>Yes</td>\n",
       "      <td>&gt;30</td>\n",
       "    </tr>\n",
       "    <tr>\n",
       "      <th>2</th>\n",
       "      <td>64410</td>\n",
       "      <td>86047875</td>\n",
       "      <td>AfricanAmerican</td>\n",
       "      <td>Female</td>\n",
       "      <td>[20-30)</td>\n",
       "      <td>?</td>\n",
       "      <td>1</td>\n",
       "      <td>1</td>\n",
       "      <td>7</td>\n",
       "      <td>2</td>\n",
       "      <td>...</td>\n",
       "      <td>No</td>\n",
       "      <td>No</td>\n",
       "      <td>No</td>\n",
       "      <td>No</td>\n",
       "      <td>No</td>\n",
       "      <td>No</td>\n",
       "      <td>No</td>\n",
       "      <td>No</td>\n",
       "      <td>Yes</td>\n",
       "      <td>NO</td>\n",
       "    </tr>\n",
       "    <tr>\n",
       "      <th>3</th>\n",
       "      <td>500364</td>\n",
       "      <td>82442376</td>\n",
       "      <td>Caucasian</td>\n",
       "      <td>Male</td>\n",
       "      <td>[30-40)</td>\n",
       "      <td>?</td>\n",
       "      <td>1</td>\n",
       "      <td>1</td>\n",
       "      <td>7</td>\n",
       "      <td>2</td>\n",
       "      <td>...</td>\n",
       "      <td>No</td>\n",
       "      <td>Up</td>\n",
       "      <td>No</td>\n",
       "      <td>No</td>\n",
       "      <td>No</td>\n",
       "      <td>No</td>\n",
       "      <td>No</td>\n",
       "      <td>Ch</td>\n",
       "      <td>Yes</td>\n",
       "      <td>NO</td>\n",
       "    </tr>\n",
       "    <tr>\n",
       "      <th>4</th>\n",
       "      <td>16680</td>\n",
       "      <td>42519267</td>\n",
       "      <td>Caucasian</td>\n",
       "      <td>Male</td>\n",
       "      <td>[40-50)</td>\n",
       "      <td>?</td>\n",
       "      <td>1</td>\n",
       "      <td>1</td>\n",
       "      <td>7</td>\n",
       "      <td>1</td>\n",
       "      <td>...</td>\n",
       "      <td>No</td>\n",
       "      <td>Steady</td>\n",
       "      <td>No</td>\n",
       "      <td>No</td>\n",
       "      <td>No</td>\n",
       "      <td>No</td>\n",
       "      <td>No</td>\n",
       "      <td>Ch</td>\n",
       "      <td>Yes</td>\n",
       "      <td>NO</td>\n",
       "    </tr>\n",
       "  </tbody>\n",
       "</table>\n",
       "<p>5 rows × 50 columns</p>\n",
       "</div>"
      ],
      "text/plain": [
       "   encounter_id  patient_nbr             race  gender      age weight  \\\n",
       "0       2278392      8222157        Caucasian  Female   [0-10)      ?   \n",
       "1        149190     55629189        Caucasian  Female  [10-20)      ?   \n",
       "2         64410     86047875  AfricanAmerican  Female  [20-30)      ?   \n",
       "3        500364     82442376        Caucasian    Male  [30-40)      ?   \n",
       "4         16680     42519267        Caucasian    Male  [40-50)      ?   \n",
       "\n",
       "   admission_type_id  discharge_disposition_id  admission_source_id  \\\n",
       "0                  6                        25                    1   \n",
       "1                  1                         1                    7   \n",
       "2                  1                         1                    7   \n",
       "3                  1                         1                    7   \n",
       "4                  1                         1                    7   \n",
       "\n",
       "   time_in_hospital  ... citoglipton insulin  glyburide-metformin  \\\n",
       "0                 1  ...          No      No                   No   \n",
       "1                 3  ...          No      Up                   No   \n",
       "2                 2  ...          No      No                   No   \n",
       "3                 2  ...          No      Up                   No   \n",
       "4                 1  ...          No  Steady                   No   \n",
       "\n",
       "   glipizide-metformin  glimepiride-pioglitazone  metformin-rosiglitazone  \\\n",
       "0                   No                        No                       No   \n",
       "1                   No                        No                       No   \n",
       "2                   No                        No                       No   \n",
       "3                   No                        No                       No   \n",
       "4                   No                        No                       No   \n",
       "\n",
       "   metformin-pioglitazone  change diabetesMed readmitted  \n",
       "0                      No      No          No         NO  \n",
       "1                      No      Ch         Yes        >30  \n",
       "2                      No      No         Yes         NO  \n",
       "3                      No      Ch         Yes         NO  \n",
       "4                      No      Ch         Yes         NO  \n",
       "\n",
       "[5 rows x 50 columns]"
      ]
     },
     "execution_count": 3,
     "metadata": {},
     "output_type": "execute_result"
    }
   ],
   "source": [
    "df.head()"
   ]
  },
  {
   "cell_type": "code",
   "execution_count": 4,
   "metadata": {
    "colab": {
     "base_uri": "https://localhost:8080/",
     "height": 361
    },
    "id": "Ye684VfSOAoH",
    "outputId": "b6beed09-bb42-42e9-f1ce-55f4b79f3299"
   },
   "outputs": [
    {
     "data": {
      "text/html": [
       "<div>\n",
       "<style scoped>\n",
       "    .dataframe tbody tr th:only-of-type {\n",
       "        vertical-align: middle;\n",
       "    }\n",
       "\n",
       "    .dataframe tbody tr th {\n",
       "        vertical-align: top;\n",
       "    }\n",
       "\n",
       "    .dataframe thead th {\n",
       "        text-align: right;\n",
       "    }\n",
       "</style>\n",
       "<table border=\"1\" class=\"dataframe\">\n",
       "  <thead>\n",
       "    <tr style=\"text-align: right;\">\n",
       "      <th></th>\n",
       "      <th>encounter_id</th>\n",
       "      <th>patient_nbr</th>\n",
       "      <th>admission_type_id</th>\n",
       "      <th>discharge_disposition_id</th>\n",
       "      <th>admission_source_id</th>\n",
       "      <th>time_in_hospital</th>\n",
       "      <th>num_lab_procedures</th>\n",
       "      <th>num_procedures</th>\n",
       "      <th>num_medications</th>\n",
       "      <th>number_outpatient</th>\n",
       "      <th>number_emergency</th>\n",
       "      <th>number_inpatient</th>\n",
       "      <th>number_diagnoses</th>\n",
       "    </tr>\n",
       "  </thead>\n",
       "  <tbody>\n",
       "    <tr>\n",
       "      <th>count</th>\n",
       "      <td>1.017660e+05</td>\n",
       "      <td>1.017660e+05</td>\n",
       "      <td>101766.000000</td>\n",
       "      <td>101766.000000</td>\n",
       "      <td>101766.000000</td>\n",
       "      <td>101766.000000</td>\n",
       "      <td>101766.000000</td>\n",
       "      <td>101766.000000</td>\n",
       "      <td>101766.000000</td>\n",
       "      <td>101766.000000</td>\n",
       "      <td>101766.000000</td>\n",
       "      <td>101766.000000</td>\n",
       "      <td>101766.000000</td>\n",
       "    </tr>\n",
       "    <tr>\n",
       "      <th>mean</th>\n",
       "      <td>1.652016e+08</td>\n",
       "      <td>5.433040e+07</td>\n",
       "      <td>2.024006</td>\n",
       "      <td>3.715642</td>\n",
       "      <td>5.754437</td>\n",
       "      <td>4.395987</td>\n",
       "      <td>43.095641</td>\n",
       "      <td>1.339730</td>\n",
       "      <td>16.021844</td>\n",
       "      <td>0.369357</td>\n",
       "      <td>0.197836</td>\n",
       "      <td>0.635566</td>\n",
       "      <td>7.422607</td>\n",
       "    </tr>\n",
       "    <tr>\n",
       "      <th>std</th>\n",
       "      <td>1.026403e+08</td>\n",
       "      <td>3.869636e+07</td>\n",
       "      <td>1.445403</td>\n",
       "      <td>5.280166</td>\n",
       "      <td>4.064081</td>\n",
       "      <td>2.985108</td>\n",
       "      <td>19.674362</td>\n",
       "      <td>1.705807</td>\n",
       "      <td>8.127566</td>\n",
       "      <td>1.267265</td>\n",
       "      <td>0.930472</td>\n",
       "      <td>1.262863</td>\n",
       "      <td>1.933600</td>\n",
       "    </tr>\n",
       "    <tr>\n",
       "      <th>min</th>\n",
       "      <td>1.252200e+04</td>\n",
       "      <td>1.350000e+02</td>\n",
       "      <td>1.000000</td>\n",
       "      <td>1.000000</td>\n",
       "      <td>1.000000</td>\n",
       "      <td>1.000000</td>\n",
       "      <td>1.000000</td>\n",
       "      <td>0.000000</td>\n",
       "      <td>1.000000</td>\n",
       "      <td>0.000000</td>\n",
       "      <td>0.000000</td>\n",
       "      <td>0.000000</td>\n",
       "      <td>1.000000</td>\n",
       "    </tr>\n",
       "    <tr>\n",
       "      <th>25%</th>\n",
       "      <td>8.496119e+07</td>\n",
       "      <td>2.341322e+07</td>\n",
       "      <td>1.000000</td>\n",
       "      <td>1.000000</td>\n",
       "      <td>1.000000</td>\n",
       "      <td>2.000000</td>\n",
       "      <td>31.000000</td>\n",
       "      <td>0.000000</td>\n",
       "      <td>10.000000</td>\n",
       "      <td>0.000000</td>\n",
       "      <td>0.000000</td>\n",
       "      <td>0.000000</td>\n",
       "      <td>6.000000</td>\n",
       "    </tr>\n",
       "    <tr>\n",
       "      <th>50%</th>\n",
       "      <td>1.523890e+08</td>\n",
       "      <td>4.550514e+07</td>\n",
       "      <td>1.000000</td>\n",
       "      <td>1.000000</td>\n",
       "      <td>7.000000</td>\n",
       "      <td>4.000000</td>\n",
       "      <td>44.000000</td>\n",
       "      <td>1.000000</td>\n",
       "      <td>15.000000</td>\n",
       "      <td>0.000000</td>\n",
       "      <td>0.000000</td>\n",
       "      <td>0.000000</td>\n",
       "      <td>8.000000</td>\n",
       "    </tr>\n",
       "    <tr>\n",
       "      <th>75%</th>\n",
       "      <td>2.302709e+08</td>\n",
       "      <td>8.754595e+07</td>\n",
       "      <td>3.000000</td>\n",
       "      <td>4.000000</td>\n",
       "      <td>7.000000</td>\n",
       "      <td>6.000000</td>\n",
       "      <td>57.000000</td>\n",
       "      <td>2.000000</td>\n",
       "      <td>20.000000</td>\n",
       "      <td>0.000000</td>\n",
       "      <td>0.000000</td>\n",
       "      <td>1.000000</td>\n",
       "      <td>9.000000</td>\n",
       "    </tr>\n",
       "    <tr>\n",
       "      <th>max</th>\n",
       "      <td>4.438672e+08</td>\n",
       "      <td>1.895026e+08</td>\n",
       "      <td>8.000000</td>\n",
       "      <td>28.000000</td>\n",
       "      <td>25.000000</td>\n",
       "      <td>14.000000</td>\n",
       "      <td>132.000000</td>\n",
       "      <td>6.000000</td>\n",
       "      <td>81.000000</td>\n",
       "      <td>42.000000</td>\n",
       "      <td>76.000000</td>\n",
       "      <td>21.000000</td>\n",
       "      <td>16.000000</td>\n",
       "    </tr>\n",
       "  </tbody>\n",
       "</table>\n",
       "</div>"
      ],
      "text/plain": [
       "       encounter_id   patient_nbr  admission_type_id  \\\n",
       "count  1.017660e+05  1.017660e+05      101766.000000   \n",
       "mean   1.652016e+08  5.433040e+07           2.024006   \n",
       "std    1.026403e+08  3.869636e+07           1.445403   \n",
       "min    1.252200e+04  1.350000e+02           1.000000   \n",
       "25%    8.496119e+07  2.341322e+07           1.000000   \n",
       "50%    1.523890e+08  4.550514e+07           1.000000   \n",
       "75%    2.302709e+08  8.754595e+07           3.000000   \n",
       "max    4.438672e+08  1.895026e+08           8.000000   \n",
       "\n",
       "       discharge_disposition_id  admission_source_id  time_in_hospital  \\\n",
       "count             101766.000000        101766.000000     101766.000000   \n",
       "mean                   3.715642             5.754437          4.395987   \n",
       "std                    5.280166             4.064081          2.985108   \n",
       "min                    1.000000             1.000000          1.000000   \n",
       "25%                    1.000000             1.000000          2.000000   \n",
       "50%                    1.000000             7.000000          4.000000   \n",
       "75%                    4.000000             7.000000          6.000000   \n",
       "max                   28.000000            25.000000         14.000000   \n",
       "\n",
       "       num_lab_procedures  num_procedures  num_medications  number_outpatient  \\\n",
       "count       101766.000000   101766.000000    101766.000000      101766.000000   \n",
       "mean            43.095641        1.339730        16.021844           0.369357   \n",
       "std             19.674362        1.705807         8.127566           1.267265   \n",
       "min              1.000000        0.000000         1.000000           0.000000   \n",
       "25%             31.000000        0.000000        10.000000           0.000000   \n",
       "50%             44.000000        1.000000        15.000000           0.000000   \n",
       "75%             57.000000        2.000000        20.000000           0.000000   \n",
       "max            132.000000        6.000000        81.000000          42.000000   \n",
       "\n",
       "       number_emergency  number_inpatient  number_diagnoses  \n",
       "count     101766.000000     101766.000000     101766.000000  \n",
       "mean           0.197836          0.635566          7.422607  \n",
       "std            0.930472          1.262863          1.933600  \n",
       "min            0.000000          0.000000          1.000000  \n",
       "25%            0.000000          0.000000          6.000000  \n",
       "50%            0.000000          0.000000          8.000000  \n",
       "75%            0.000000          1.000000          9.000000  \n",
       "max           76.000000         21.000000         16.000000  "
      ]
     },
     "execution_count": 4,
     "metadata": {},
     "output_type": "execute_result"
    }
   ],
   "source": [
    "df.describe()"
   ]
  },
  {
   "cell_type": "code",
   "execution_count": 5,
   "metadata": {
    "colab": {
     "base_uri": "https://localhost:8080/"
    },
    "id": "6tQQn-DWOC2j",
    "outputId": "ba629cfd-f538-4e31-a808-730a77f55b39"
   },
   "outputs": [
    {
     "name": "stdout",
     "output_type": "stream",
     "text": [
      "<class 'pandas.core.frame.DataFrame'>\n",
      "RangeIndex: 101766 entries, 0 to 101765\n",
      "Data columns (total 50 columns):\n",
      " #   Column                    Non-Null Count   Dtype \n",
      "---  ------                    --------------   ----- \n",
      " 0   encounter_id              101766 non-null  int64 \n",
      " 1   patient_nbr               101766 non-null  int64 \n",
      " 2   race                      101766 non-null  object\n",
      " 3   gender                    101766 non-null  object\n",
      " 4   age                       101766 non-null  object\n",
      " 5   weight                    101766 non-null  object\n",
      " 6   admission_type_id         101766 non-null  int64 \n",
      " 7   discharge_disposition_id  101766 non-null  int64 \n",
      " 8   admission_source_id       101766 non-null  int64 \n",
      " 9   time_in_hospital          101766 non-null  int64 \n",
      " 10  payer_code                101766 non-null  object\n",
      " 11  medical_specialty         101766 non-null  object\n",
      " 12  num_lab_procedures        101766 non-null  int64 \n",
      " 13  num_procedures            101766 non-null  int64 \n",
      " 14  num_medications           101766 non-null  int64 \n",
      " 15  number_outpatient         101766 non-null  int64 \n",
      " 16  number_emergency          101766 non-null  int64 \n",
      " 17  number_inpatient          101766 non-null  int64 \n",
      " 18  diag_1                    101766 non-null  object\n",
      " 19  diag_2                    101766 non-null  object\n",
      " 20  diag_3                    101766 non-null  object\n",
      " 21  number_diagnoses          101766 non-null  int64 \n",
      " 22  max_glu_serum             101766 non-null  object\n",
      " 23  A1Cresult                 101766 non-null  object\n",
      " 24  metformin                 101766 non-null  object\n",
      " 25  repaglinide               101766 non-null  object\n",
      " 26  nateglinide               101766 non-null  object\n",
      " 27  chlorpropamide            101766 non-null  object\n",
      " 28  glimepiride               101766 non-null  object\n",
      " 29  acetohexamide             101766 non-null  object\n",
      " 30  glipizide                 101766 non-null  object\n",
      " 31  glyburide                 101766 non-null  object\n",
      " 32  tolbutamide               101766 non-null  object\n",
      " 33  pioglitazone              101766 non-null  object\n",
      " 34  rosiglitazone             101766 non-null  object\n",
      " 35  acarbose                  101766 non-null  object\n",
      " 36  miglitol                  101766 non-null  object\n",
      " 37  troglitazone              101766 non-null  object\n",
      " 38  tolazamide                101766 non-null  object\n",
      " 39  examide                   101766 non-null  object\n",
      " 40  citoglipton               101766 non-null  object\n",
      " 41  insulin                   101766 non-null  object\n",
      " 42  glyburide-metformin       101766 non-null  object\n",
      " 43  glipizide-metformin       101766 non-null  object\n",
      " 44  glimepiride-pioglitazone  101766 non-null  object\n",
      " 45  metformin-rosiglitazone   101766 non-null  object\n",
      " 46  metformin-pioglitazone    101766 non-null  object\n",
      " 47  change                    101766 non-null  object\n",
      " 48  diabetesMed               101766 non-null  object\n",
      " 49  readmitted                101766 non-null  object\n",
      "dtypes: int64(13), object(37)\n",
      "memory usage: 38.8+ MB\n"
     ]
    }
   ],
   "source": [
    "df.info()"
   ]
  },
  {
   "attachments": {},
   "cell_type": "markdown",
   "metadata": {
    "id": "FRufOnk6OksI"
   },
   "source": [
    "<h1>Preprocessing</h1>"
   ]
  },
  {
   "cell_type": "code",
   "execution_count": 6,
   "metadata": {
    "id": "FPOIDSWuOyj1"
   },
   "outputs": [],
   "source": [
    "#Checking and replacing missing values\n",
    "df.replace('?', float('nan'), inplace=True)"
   ]
  },
  {
   "cell_type": "code",
   "execution_count": 7,
   "metadata": {
    "colab": {
     "base_uri": "https://localhost:8080/"
    },
    "id": "bEPt7e8MPEsY",
    "outputId": "bb0e9df2-cd02-417f-a1d1-4fadd1ffc9fa"
   },
   "outputs": [
    {
     "data": {
      "text/plain": [
       "encounter_id                    0\n",
       "patient_nbr                     0\n",
       "race                         2273\n",
       "gender                          0\n",
       "age                             0\n",
       "weight                      98569\n",
       "admission_type_id               0\n",
       "discharge_disposition_id        0\n",
       "admission_source_id             0\n",
       "time_in_hospital                0\n",
       "payer_code                  40256\n",
       "medical_specialty           49949\n",
       "num_lab_procedures              0\n",
       "num_procedures                  0\n",
       "num_medications                 0\n",
       "number_outpatient               0\n",
       "number_emergency                0\n",
       "number_inpatient                0\n",
       "diag_1                         21\n",
       "diag_2                        358\n",
       "diag_3                       1423\n",
       "number_diagnoses                0\n",
       "max_glu_serum                   0\n",
       "A1Cresult                       0\n",
       "metformin                       0\n",
       "repaglinide                     0\n",
       "nateglinide                     0\n",
       "chlorpropamide                  0\n",
       "glimepiride                     0\n",
       "acetohexamide                   0\n",
       "glipizide                       0\n",
       "glyburide                       0\n",
       "tolbutamide                     0\n",
       "pioglitazone                    0\n",
       "rosiglitazone                   0\n",
       "acarbose                        0\n",
       "miglitol                        0\n",
       "troglitazone                    0\n",
       "tolazamide                      0\n",
       "examide                         0\n",
       "citoglipton                     0\n",
       "insulin                         0\n",
       "glyburide-metformin             0\n",
       "glipizide-metformin             0\n",
       "glimepiride-pioglitazone        0\n",
       "metformin-rosiglitazone         0\n",
       "metformin-pioglitazone          0\n",
       "change                          0\n",
       "diabetesMed                     0\n",
       "readmitted                      0\n",
       "dtype: int64"
      ]
     },
     "execution_count": 7,
     "metadata": {},
     "output_type": "execute_result"
    }
   ],
   "source": [
    "missing_counts = df.isna().sum()\n",
    "missing_counts"
   ]
  },
  {
   "attachments": {},
   "cell_type": "markdown",
   "metadata": {
    "id": "3H9A3PweQkZG"
   },
   "source": [
    "As we see we have 2273 missing values for race feature\n",
    "so we use mode to replace missing values."
   ]
  },
  {
   "cell_type": "code",
   "execution_count": 8,
   "metadata": {
    "colab": {
     "base_uri": "https://localhost:8080/"
    },
    "id": "uG1EkdV4O5tD",
    "outputId": "6322c270-a68d-41d5-d570-09b72dd925a9"
   },
   "outputs": [
    {
     "name": "stdout",
     "output_type": "stream",
     "text": [
      "0           Caucasian\n",
      "1           Caucasian\n",
      "2     AfricanAmerican\n",
      "3           Caucasian\n",
      "4           Caucasian\n",
      "5           Caucasian\n",
      "6           Caucasian\n",
      "7           Caucasian\n",
      "8           Caucasian\n",
      "9           Caucasian\n",
      "10    AfricanAmerican\n",
      "11    AfricanAmerican\n",
      "12          Caucasian\n",
      "13          Caucasian\n",
      "14    AfricanAmerican\n",
      "15    AfricanAmerican\n",
      "16    AfricanAmerican\n",
      "17          Caucasian\n",
      "18    AfricanAmerican\n",
      "19          Caucasian\n",
      "20          Caucasian\n",
      "21          Caucasian\n",
      "22    AfricanAmerican\n",
      "23          Caucasian\n",
      "24    AfricanAmerican\n",
      "25              Other\n",
      "26          Caucasian\n",
      "27          Caucasian\n",
      "28          Caucasian\n",
      "29          Caucasian\n",
      "Name: race, dtype: object\n"
     ]
    }
   ],
   "source": [
    "mode_race = df['race'].mode()[0]\n",
    "df['race'].fillna(mode_race, inplace=True)\n",
    "print(df['race'].head(30))"
   ]
  },
  {
   "attachments": {},
   "cell_type": "markdown",
   "metadata": {
    "id": "dQXR4l1rQuig"
   },
   "source": [
    "Now we drop weight, payer_code, medical_speciality, encounter_id and patient_nbr, citoglipton, examide."
   ]
  },
  {
   "cell_type": "code",
   "execution_count": 9,
   "metadata": {
    "id": "m1maEy-vR7sS"
   },
   "outputs": [],
   "source": [
    "df.drop(['weight'], axis=1, inplace=True)\n",
    "df.drop(['medical_specialty'], axis=1, inplace=True)\n",
    "df.drop(['payer_code'], axis=1, inplace=True)\n",
    "df.drop(['encounter_id'], axis = 1, inplace = True)\n",
    "df.drop(['patient_nbr'], axis = 1, inplace = True)\n",
    "df = df.drop(['citoglipton'], axis = 1)\n",
    "df = df.drop(['examide'], axis = 1)"
   ]
  },
  {
   "cell_type": "code",
   "execution_count": 10,
   "metadata": {
    "id": "js4E_ndhTWLN"
   },
   "outputs": [],
   "source": [
    "diag_1_mode = df['diag_1'].mode()[0]\n",
    "diag_2_mode = df['diag_2'].mode()[0]\n",
    "diag_3_mode = df['diag_3'].mode()[0]\n",
    "\n",
    "df['diag_1'] = df['diag_1'].fillna(diag_1_mode)\n",
    "df['diag_2'] = df['diag_2'].fillna(diag_2_mode)\n",
    "df['diag_3'] = df['diag_3'].fillna(diag_3_mode)"
   ]
  },
  {
   "cell_type": "code",
   "execution_count": 11,
   "metadata": {
    "colab": {
     "base_uri": "https://localhost:8080/"
    },
    "id": "Oh_Xr4DQUYSN",
    "outputId": "65e438d6-2c93-470b-9221-52c0e6deea4c"
   },
   "outputs": [
    {
     "name": "stdout",
     "output_type": "stream",
     "text": [
      "3\n"
     ]
    }
   ],
   "source": [
    "print(df['gender'][df['gender'] == 'Unknown/Invalid'].count()) "
   ]
  },
  {
   "attachments": {},
   "cell_type": "markdown",
   "metadata": {
    "id": "Yvxmur0fUFye"
   },
   "source": [
    "we have 3 missing values in gender feature.\n",
    "we drop them."
   ]
  },
  {
   "cell_type": "code",
   "execution_count": 12,
   "metadata": {
    "id": "7IiVI2gAT9H_"
   },
   "outputs": [],
   "source": [
    "df = df[df['gender'] != 'Unknown/Invalid']"
   ]
  },
  {
   "cell_type": "code",
   "execution_count": 13,
   "metadata": {
    "colab": {
     "base_uri": "https://localhost:8080/"
    },
    "id": "3qa8ml8JUkfb",
    "outputId": "e6fde868-8b90-466c-9077-e028ffa02f22"
   },
   "outputs": [
    {
     "name": "stdout",
     "output_type": "stream",
     "text": [
      "0\n"
     ]
    }
   ],
   "source": [
    "print(df['gender'][df['gender'] == 'Unknown/Invalid'].count()) "
   ]
  },
  {
   "attachments": {},
   "cell_type": "markdown",
   "metadata": {
    "id": "nAVK132NU67z"
   },
   "source": [
    "Now we check the missing values."
   ]
  },
  {
   "cell_type": "code",
   "execution_count": 14,
   "metadata": {
    "colab": {
     "base_uri": "https://localhost:8080/"
    },
    "id": "-A1oEKC5U_rv",
    "outputId": "e1d5fe75-8162-46d4-f35f-09c3a151bc57"
   },
   "outputs": [
    {
     "data": {
      "text/plain": [
       "race                        0\n",
       "gender                      0\n",
       "age                         0\n",
       "admission_type_id           0\n",
       "discharge_disposition_id    0\n",
       "admission_source_id         0\n",
       "time_in_hospital            0\n",
       "num_lab_procedures          0\n",
       "num_procedures              0\n",
       "num_medications             0\n",
       "number_outpatient           0\n",
       "number_emergency            0\n",
       "number_inpatient            0\n",
       "diag_1                      0\n",
       "diag_2                      0\n",
       "diag_3                      0\n",
       "number_diagnoses            0\n",
       "max_glu_serum               0\n",
       "A1Cresult                   0\n",
       "metformin                   0\n",
       "repaglinide                 0\n",
       "nateglinide                 0\n",
       "chlorpropamide              0\n",
       "glimepiride                 0\n",
       "acetohexamide               0\n",
       "glipizide                   0\n",
       "glyburide                   0\n",
       "tolbutamide                 0\n",
       "pioglitazone                0\n",
       "rosiglitazone               0\n",
       "acarbose                    0\n",
       "miglitol                    0\n",
       "troglitazone                0\n",
       "tolazamide                  0\n",
       "insulin                     0\n",
       "glyburide-metformin         0\n",
       "glipizide-metformin         0\n",
       "glimepiride-pioglitazone    0\n",
       "metformin-rosiglitazone     0\n",
       "metformin-pioglitazone      0\n",
       "change                      0\n",
       "diabetesMed                 0\n",
       "readmitted                  0\n",
       "dtype: int64"
      ]
     },
     "execution_count": 14,
     "metadata": {},
     "output_type": "execute_result"
    }
   ],
   "source": [
    "missing_counts = df.isna().sum()\n",
    "missing_counts"
   ]
  },
  {
   "cell_type": "code",
   "execution_count": 15,
   "metadata": {
    "colab": {
     "base_uri": "https://localhost:8080/"
    },
    "id": "oZ4cLO4oViZw",
    "outputId": "1a65c468-6215-4607-fea3-eab8c404f201"
   },
   "outputs": [
    {
     "name": "stdout",
     "output_type": "stream",
     "text": [
      "0     5\n",
      "1    15\n",
      "2    25\n",
      "3    35\n",
      "4    45\n",
      "Name: age, dtype: int64\n"
     ]
    }
   ],
   "source": [
    "replaceDict = {'[0-10)' : 5,\n",
    "'[10-20)' : 15,\n",
    "'[20-30)' : 25, \n",
    "'[30-40)' : 35, \n",
    "'[40-50)' : 45, \n",
    "'[50-60)' : 55,\n",
    "'[60-70)' : 65, \n",
    "'[70-80)' : 75,\n",
    "'[80-90)' : 85,\n",
    "'[90-100)' : 95}\n",
    "\n",
    "df['age'] = df['age'].apply(lambda x : replaceDict[x])\n",
    "print(df['age'].head())"
   ]
  },
  {
   "attachments": {},
   "cell_type": "markdown",
   "metadata": {
    "id": "fBh-yw36XcNU"
   },
   "source": [
    "## Feature engineering & Exploratory data analysis (EDA)"
   ]
  },
  {
   "cell_type": "code",
   "execution_count": 16,
   "metadata": {
    "id": "QHeW1cffFu1v"
   },
   "outputs": [],
   "source": [
    "# The diag_1 , diag_2 , diag_3 are categorical features but they have lots unique values\n",
    "df['diag_1'] = df['diag_1'].apply(lambda x : 'other' if (str(x).find('V') != -1 or str(x).find('E') != -1)  \n",
    "                                        else ('circulatory' if int(float(x)) in range(390, 460) or int(float(x)) == 785\n",
    "                                        else     ('respiratory' if int(float(x)) in range(460, 520) or int(float(x)) == 786\n",
    "                                        else     ('digestive'   if int(float(x)) in range(520, 580) or int(float(x)) == 787\n",
    "                                        else     ('diabetes'    if int(float(x)) == 250\n",
    "                                        else     ('injury'      if int(float(x)) in range(800, 1000)\n",
    "                                        else ('musculoskeletal' if int(float(x)) in range(710, 740)\n",
    "                                        else ('genitourinary'   if int(float(x)) in range(580, 630) or int(float(x)) == 788\n",
    "                                        else ('neoplasms'       if int(float(x)) in range(140, 240)\n",
    "                                        else ('pregnecy'        if int(float(x)) in range(630, 680)\n",
    "                                        else 'other'))))))))))\n",
    "\n",
    "df['diag_2'] = df['diag_2'].apply(lambda x : 'other' if (str(x).find('V') != -1 or str(x).find('E') != -1)  \n",
    "                                        else ('circulatory' if int(float(x)) in range(390, 460) or int(float(x)) == 785\n",
    "                                        else     ('respiratory' if int(float(x)) in range(460, 520) or int(float(x)) == 786\n",
    "                                        else     ('digestive'   if int(float(x)) in range(520, 580) or int(float(x)) == 787\n",
    "                                        else     ('diabetes'    if int(float(x)) == 250\n",
    "                                        else     ('injury'      if int(float(x)) in range(800, 1000)\n",
    "                                        else ('musculoskeletal' if int(float(x)) in range(710, 740)\n",
    "                                        else ('genitourinary'   if int(float(x)) in range(580, 630) or int(float(x)) == 788\n",
    "                                        else ('neoplasms'       if int(float(x)) in range(140, 240)\n",
    "                                        else ('pregnecy'        if int(float(x)) in range(630, 680)\n",
    "                                        else 'other'))))))))))\n",
    "\n",
    "df['diag_3'] = df['diag_3'].apply(lambda x : 'other' if (str(x).find('V') != -1 or str(x).find('E') != -1)  \n",
    "                                        else ('circulatory' if int(float(x)) in range(390, 460) or int(float(x)) == 785\n",
    "                                        else     ('respiratory' if int(float(x)) in range(460, 520) or int(float(x)) == 786\n",
    "                                        else     ('digestive'   if int(float(x)) in range(520, 580) or int(float(x)) == 787\n",
    "                                        else     ('diabetes'    if int(float(x)) == 250\n",
    "                                        else     ('injury'      if int(float(x)) in range(800, 1000)\n",
    "                                        else ('musculoskeletal' if int(float(x)) in range(710, 740)\n",
    "                                        else ('genitourinary'   if int(float(x)) in range(580, 630) or int(float(x)) == 788\n",
    "                                        else ('neoplasms'       if int(float(x)) in range(140, 240)\n",
    "                                        else ('pregnecy'        if int(float(x)) in range(630, 680)\n",
    "                                        else 'other'))))))))))"
   ]
  },
  {
   "cell_type": "code",
   "execution_count": 17,
   "metadata": {
    "id": "5tACvi8-HHl2"
   },
   "outputs": [],
   "source": [
    "# Replace '>30' / 'NO' with 0 and '<30' with 1 in Redmitted column\n",
    "df['readmitted'] = df['readmitted'].apply(lambda x : 0 if (x == '>30' or x == 'NO') else 1)"
   ]
  },
  {
   "cell_type": "code",
   "execution_count": 18,
   "metadata": {
    "id": "8sUqKR84HOTH"
   },
   "outputs": [],
   "source": [
    "df['discharge_disposition_id'] = df['discharge_disposition_id'].apply(lambda x : 1 if int(x) in [6, 8, 9, 13] \n",
    "                                                                           else ( 2 if int(x) in [3, 4, 5, 14, 22, 23, 24]\n",
    "                                                                           else ( 10 if int(x) in [12, 15, 16, 17]\n",
    "                                                                           else ( 11 if int(x) in [19, 20, 21]\n",
    "                                                                           else ( 18 if int(x) in [25, 26] \n",
    "                                                                           else int(x) )))))\n",
    "\n",
    "df = df[~df.discharge_disposition_id.isin([11,13,14,19,20,21])]"
   ]
  },
  {
   "cell_type": "code",
   "execution_count": 19,
   "metadata": {
    "id": "kPaYNH-xHSWC"
   },
   "outputs": [],
   "source": [
    "df['admission_type_id'] = df['admission_type_id'].apply(lambda x : 1 if int(x) in [2, 7]\n",
    "                                                            else ( 5 if int(x) in [6, 8]\n",
    "                                                            else int(x) ))"
   ]
  },
  {
   "cell_type": "code",
   "execution_count": 20,
   "metadata": {
    "id": "msJJTsacHWZ_"
   },
   "outputs": [],
   "source": [
    "df['admission_source_id'] = df['admission_source_id'].apply(lambda x : 1 if int(x) in [2, 3]\n",
    "                                                            else ( 4 if int(x) in [5, 6, 10, 22, 25]\n",
    "                                                            else ( 9 if int(x) in [15, 17, 20, 21]\n",
    "                                                            else ( 11 if int(x) in [13, 14]\n",
    "                                                            else int(x) ))))"
   ]
  },
  {
   "cell_type": "code",
   "execution_count": 21,
   "metadata": {
    "id": "o6eTMaZKHabo"
   },
   "outputs": [],
   "source": [
    "df['max_glu_serum'] = df['max_glu_serum'].apply(lambda x : 200 if x == '>200' \n",
    "                                                            else ( 300 if x == '>300'                                                          \n",
    "                                                            else ( 100 if x == 'Norm'\n",
    "                                                            else  0)))"
   ]
  },
  {
   "cell_type": "code",
   "execution_count": 22,
   "metadata": {
    "id": "AAry3ap0Hf6W"
   },
   "outputs": [],
   "source": [
    "df['A1Cresult'] = df['A1Cresult'].apply(lambda x : 7 if x == '>7' \n",
    "                                                         else (8 if  x == '>8'                                                        \n",
    "                                                         else ( 5 if x == 'Norm'\n",
    "                                                         else  0)))"
   ]
  },
  {
   "cell_type": "code",
   "execution_count": 23,
   "metadata": {
    "id": "Lyvl4e26HlOD"
   },
   "outputs": [],
   "source": [
    "for col in [\"metformin\", \"repaglinide\", \"nateglinide\", \"chlorpropamide\", \"glimepiride\", \"acetohexamide\", \"glipizide\", \"glyburide\", \"tolbutamide\", \"pioglitazone\", \"rosiglitazone\", \"acarbose\", \"miglitol\", \"troglitazone\", \"tolazamide\", \"insulin\", \"glyburide-metformin\", \"glipizide-metformin\", \"glimepiride-pioglitazone\", \"metformin-rosiglitazone\", \"metformin-pioglitazone\"]:\n",
    "    df[col] = df[col].apply(lambda x : 10 if x == 'Up' \n",
    "                                              else ( -10 if x == 'Down'                                                          \n",
    "                                              else ( 0 if x == 'Steady'\n",
    "                                              else  -20)))"
   ]
  },
  {
   "cell_type": "code",
   "execution_count": 24,
   "metadata": {
    "id": "-XLGTv8YHqoK"
   },
   "outputs": [],
   "source": [
    "df['change'] = df['change'].apply(lambda x : 1 if x == 'Ch'\n",
    "                                                 else -1)"
   ]
  },
  {
   "cell_type": "code",
   "execution_count": 25,
   "metadata": {
    "id": "BuYpQj2PHtly"
   },
   "outputs": [],
   "source": [
    "df['diabetesMed'] = df['diabetesMed'].apply(lambda x : -1 if x == 'No'\n",
    "                                                else 1)"
   ]
  },
  {
   "cell_type": "code",
   "execution_count": 26,
   "metadata": {
    "colab": {
     "base_uri": "https://localhost:8080/",
     "height": 428
    },
    "id": "UmSF9rIjJx-3",
    "outputId": "f39f9ea3-0935-4f85-9893-1e7992895a40"
   },
   "outputs": [
    {
     "data": {
      "image/png": "[encoded data removed]",
      "text/plain": [
       "<Figure size 640x480 with 1 Axes>"
      ]
     },
     "metadata": {},
     "output_type": "display_data"
    }
   ],
   "source": [
    "df.readmitted.value_counts().plot.pie(autopct = \"%.1f%%\")\n",
    "plt.title(\"Proportion of Target Value\")\n",
    "plt.show()"
   ]
  },
  {
   "cell_type": "code",
   "execution_count": 27,
   "metadata": {
    "colab": {
     "base_uri": "https://localhost:8080/",
     "height": 691
    },
    "id": "b2DYQMAdKRdc",
    "outputId": "49a0f096-c7cd-47d6-d3af-aeb03cb6e190"
   },
   "outputs": [
    {
     "data": {
      "image/png": "[encoded data removed]",
      "text/plain": [
       "<Figure size 640x480 with 1 Axes>"
      ]
     },
     "metadata": {},
     "output_type": "display_data"
    },
    {
     "name": "stdout",
     "output_type": "stream",
     "text": [
      "Proportion of Race\n",
      "Caucasian          76.996534\n",
      "AfricanAmerican    18.867058\n",
      "Hispanic            2.021756\n",
      "Other               1.483353\n",
      "Asian               0.631299\n",
      "Name: race, dtype: float64\n"
     ]
    }
   ],
   "source": [
    "sns.countplot(x=df.race, data = df)\n",
    "plt.xticks(rotation=90)\n",
    "plt.title(\"Number of Race values\")\n",
    "plt.show()\n",
    "\n",
    "print(\"Proportion of Race\")\n",
    "print(df.race.value_counts(normalize = True)*100)"
   ]
  },
  {
   "cell_type": "code",
   "execution_count": 28,
   "metadata": {
    "colab": {
     "base_uri": "https://localhost:8080/",
     "height": 472
    },
    "id": "TrHhMYEzK3fv",
    "outputId": "6b6b20f8-f7b1-491b-f531-88f8f59f5cf4"
   },
   "outputs": [
    {
     "data": {
      "image/png": "[encoded data removed]",
      "text/plain": [
       "<Figure size 640x480 with 1 Axes>"
      ]
     },
     "metadata": {},
     "output_type": "display_data"
    }
   ],
   "source": [
    "sns.countplot(x=\"race\", hue= \"readmitted\", data = df)\n",
    "plt.title(\"Readmitted - Race\")\n",
    "plt.show()"
   ]
  },
  {
   "cell_type": "code",
   "execution_count": 29,
   "metadata": {
    "colab": {
     "base_uri": "https://localhost:8080/",
     "height": 472
    },
    "id": "swPr2fP5PQq-",
    "outputId": "0906e235-5c8d-4666-90a7-a62c80fc6480"
   },
   "outputs": [
    {
     "data": {
      "image/png": "[encoded data removed]",
      "text/plain": [
       "<Figure size 640x480 with 1 Axes>"
      ]
     },
     "metadata": {},
     "output_type": "display_data"
    }
   ],
   "source": [
    "readmitted = df[df['readmitted'] == 1]['time_in_hospital']\n",
    "not_readmitted = df[df['readmitted'] == 0]['time_in_hospital']\n",
    "\n",
    "plt.hist([readmitted, not_readmitted], bins=20, label=['Readmitted', 'Not Readmitted'])\n",
    "plt.xlabel('Time in Hospital (days)')\n",
    "plt.ylabel('Frequency')\n",
    "plt.title('Distribution of Time in Hospital by Readmission Status')\n",
    "plt.legend()\n",
    "plt.show()"
   ]
  },
  {
   "cell_type": "code",
   "execution_count": 30,
   "metadata": {
    "colab": {
     "base_uri": "https://localhost:8080/",
     "height": 526
    },
    "id": "M-6zgsifRrjY",
    "outputId": "cbe4f475-7c0c-4707-8c38-bbc3856d5030"
   },
   "outputs": [
    {
     "name": "stderr",
     "output_type": "stream",
     "text": [
      "C:\\Users\\mokht\\AppData\\Local\\Temp\\ipykernel_16848\\765795871.py:2: FutureWarning: The default value of numeric_only in DataFrame.corr is deprecated. In a future version, it will default to False. Select only valid columns or specify the value of numeric_only to silence this warning.\n",
      "  corr = df.corr()\n"
     ]
    },
    {
     "data": {
      "image/png": "[encoded data removed]",
      "text/plain": [
       "<Figure size 640x480 with 1 Axes>"
      ]
     },
     "metadata": {},
     "output_type": "display_data"
    }
   ],
   "source": [
    "# Find the most correlated feature with the target feature\n",
    "corr = df.corr()\n",
    "target_corr = corr['readmitted'].drop('readmitted')\n",
    "most_corr_feature = target_corr.abs().idxmax()\n",
    "\n",
    "# Create a histogram plot of the most correlated feature with the target feature\n",
    "readmitted = df[df['readmitted'] == 1][most_corr_feature]\n",
    "not_readmitted = df[df['readmitted'] == 0][most_corr_feature]\n",
    "\n",
    "plt.hist([readmitted, not_readmitted], bins=20, label=['Readmitted', 'Not Readmitted'])\n",
    "plt.xlabel(most_corr_feature)\n",
    "plt.ylabel('Frequency')\n",
    "plt.title('Distribution of ' + most_corr_feature + ' by Readmission Status')\n",
    "plt.legend()\n",
    "plt.show()"
   ]
  },
  {
   "attachments": {},
   "cell_type": "markdown",
   "metadata": {},
   "source": [
    "### Neural network Classifier"
   ]
  },
  {
   "cell_type": "code",
   "execution_count": 37,
   "metadata": {
    "id": "lSBDSzbYVqBv"
   },
   "outputs": [
    {
     "name": "stdout",
     "output_type": "stream",
     "text": [
      "Iteration 1, loss = 0.37239412\n",
      "Iteration 2, loss = 0.35350793\n",
      "Iteration 3, loss = 0.35031437\n",
      "Iteration 4, loss = 0.35025282\n",
      "Iteration 5, loss = 0.35133146\n",
      "Iteration 6, loss = 0.34641739\n",
      "Iteration 7, loss = 0.34516335\n",
      "Iteration 8, loss = 0.34568986\n",
      "Iteration 9, loss = 0.34786197\n",
      "Iteration 10, loss = 0.34398108\n",
      "Iteration 11, loss = 0.34394120\n",
      "Iteration 12, loss = 0.34389223\n",
      "Iteration 13, loss = 0.34259315\n",
      "Iteration 14, loss = 0.34269036\n",
      "Iteration 15, loss = 0.34313148\n",
      "Iteration 16, loss = 0.34278520\n",
      "Iteration 17, loss = 0.34218103\n",
      "Iteration 18, loss = 0.34122812\n",
      "Iteration 19, loss = 0.34108608\n",
      "Iteration 20, loss = 0.34127689\n",
      "Iteration 21, loss = 0.34072820\n",
      "Iteration 22, loss = 0.34061022\n",
      "Iteration 23, loss = 0.34079322\n",
      "Iteration 24, loss = 0.34018059\n",
      "Iteration 25, loss = 0.33993707\n",
      "Iteration 26, loss = 0.33984108\n",
      "Iteration 27, loss = 0.33972864\n",
      "Iteration 28, loss = 0.33947662\n",
      "Iteration 29, loss = 0.33944516\n",
      "Iteration 30, loss = 0.33949216\n",
      "Iteration 31, loss = 0.33893164\n",
      "Iteration 32, loss = 0.33926879\n",
      "Iteration 33, loss = 0.33874863\n",
      "Iteration 34, loss = 0.33820304\n",
      "Iteration 35, loss = 0.33832834\n",
      "Iteration 36, loss = 0.33805458\n",
      "Iteration 37, loss = 0.33857402\n",
      "Iteration 38, loss = 0.33789564\n",
      "Iteration 39, loss = 0.33752095\n",
      "Iteration 40, loss = 0.33728970\n",
      "Iteration 41, loss = 0.33709676\n",
      "Iteration 42, loss = 0.33657305\n",
      "Iteration 43, loss = 0.33691821\n",
      "Iteration 44, loss = 0.33635133\n",
      "Iteration 45, loss = 0.33625875\n",
      "Iteration 46, loss = 0.33634762\n",
      "Iteration 47, loss = 0.33595579\n",
      "Iteration 48, loss = 0.33506774\n",
      "Iteration 49, loss = 0.33535690\n",
      "Iteration 50, loss = 0.33495741\n",
      "Iteration 51, loss = 0.33456832\n",
      "Iteration 52, loss = 0.33476774\n",
      "Iteration 53, loss = 0.33466409\n",
      "Iteration 54, loss = 0.33423141\n",
      "Iteration 55, loss = 0.33372033\n",
      "Iteration 56, loss = 0.33332659\n",
      "Iteration 57, loss = 0.33337890\n",
      "Iteration 58, loss = 0.33363295\n",
      "Iteration 59, loss = 0.33288139\n",
      "Iteration 60, loss = 0.33287372\n",
      "Iteration 61, loss = 0.33278004\n",
      "Iteration 62, loss = 0.33250255\n",
      "Iteration 63, loss = 0.33211224\n",
      "Iteration 64, loss = 0.33181209\n",
      "Iteration 65, loss = 0.33172946\n",
      "Iteration 66, loss = 0.33096665\n",
      "Iteration 67, loss = 0.33071957\n",
      "Iteration 68, loss = 0.33078522\n",
      "Iteration 69, loss = 0.33070892\n",
      "Iteration 70, loss = 0.33048167\n",
      "Iteration 71, loss = 0.33061315\n",
      "Iteration 72, loss = 0.33006515\n",
      "Iteration 73, loss = 0.32958872\n",
      "Iteration 74, loss = 0.33014093\n",
      "Iteration 75, loss = 0.32873982\n",
      "Iteration 76, loss = 0.32947790\n",
      "Iteration 77, loss = 0.32857683\n",
      "Iteration 78, loss = 0.32825493\n",
      "Iteration 79, loss = 0.32836505\n",
      "Iteration 80, loss = 0.32811136\n",
      "Iteration 81, loss = 0.32759351\n",
      "Iteration 82, loss = 0.32732498\n",
      "Iteration 83, loss = 0.32716744\n",
      "Iteration 84, loss = 0.32690159\n",
      "Iteration 85, loss = 0.32716312\n",
      "Iteration 86, loss = 0.32621001\n",
      "Iteration 87, loss = 0.32644044\n",
      "Iteration 88, loss = 0.32645645\n",
      "Iteration 89, loss = 0.32594738\n",
      "Iteration 90, loss = 0.32556219\n",
      "Iteration 91, loss = 0.32558276\n",
      "Iteration 92, loss = 0.32530446\n",
      "Iteration 93, loss = 0.32446612\n",
      "Iteration 94, loss = 0.32485758\n",
      "Iteration 95, loss = 0.32461000\n",
      "Iteration 96, loss = 0.32398160\n",
      "Iteration 97, loss = 0.32460737\n",
      "Iteration 98, loss = 0.32426762\n",
      "Iteration 99, loss = 0.32341040\n",
      "Iteration 100, loss = 0.32365681\n",
      "Iteration 101, loss = 0.32335969\n",
      "Iteration 102, loss = 0.32355029\n",
      "Iteration 103, loss = 0.32344933\n",
      "Iteration 104, loss = 0.32337760\n",
      "Iteration 105, loss = 0.32307336\n",
      "Iteration 106, loss = 0.32257526\n",
      "Iteration 107, loss = 0.32305173\n",
      "Iteration 108, loss = 0.32207336\n",
      "Iteration 109, loss = 0.32219565\n",
      "Iteration 110, loss = 0.32161517\n",
      "Iteration 111, loss = 0.32070344\n",
      "Iteration 112, loss = 0.32163694\n",
      "Iteration 113, loss = 0.32099874\n",
      "Iteration 114, loss = 0.32086400\n",
      "Iteration 115, loss = 0.32070133\n",
      "Iteration 116, loss = 0.32086958\n",
      "Iteration 117, loss = 0.32057267\n",
      "Iteration 118, loss = 0.32097824\n",
      "Iteration 119, loss = 0.32067505\n",
      "Iteration 120, loss = 0.32055173\n",
      "Iteration 121, loss = 0.31949347\n",
      "Iteration 122, loss = 0.31962300\n",
      "Iteration 123, loss = 0.31965994\n",
      "Iteration 124, loss = 0.31963854\n",
      "Iteration 125, loss = 0.31863365\n",
      "Iteration 126, loss = 0.31907647\n",
      "Iteration 127, loss = 0.31916408\n",
      "Iteration 128, loss = 0.31941903\n",
      "Iteration 129, loss = 0.31874926\n",
      "Iteration 130, loss = 0.31814989\n",
      "Iteration 131, loss = 0.31835557\n",
      "Iteration 132, loss = 0.31811158\n",
      "Iteration 133, loss = 0.31859739\n",
      "Iteration 134, loss = 0.31814032\n",
      "Iteration 135, loss = 0.31769111\n",
      "Iteration 136, loss = 0.31737030\n",
      "Iteration 137, loss = 0.31810551\n",
      "Iteration 138, loss = 0.31789610\n",
      "Iteration 139, loss = 0.31678001\n",
      "Iteration 140, loss = 0.31781907\n",
      "Iteration 141, loss = 0.31675482\n",
      "Iteration 142, loss = 0.31709772\n",
      "Iteration 143, loss = 0.31699021\n",
      "Iteration 144, loss = 0.31626628\n",
      "Iteration 145, loss = 0.31585652\n",
      "Iteration 146, loss = 0.31665650\n",
      "Iteration 147, loss = 0.31613752\n",
      "Iteration 148, loss = 0.31567980\n",
      "Iteration 149, loss = 0.31554820\n",
      "Iteration 150, loss = 0.31611321\n",
      "Iteration 151, loss = 0.31611204\n",
      "Iteration 152, loss = 0.31488650\n",
      "Iteration 153, loss = 0.31575031\n",
      "Iteration 154, loss = 0.31525189\n",
      "Iteration 155, loss = 0.31526455\n",
      "Iteration 156, loss = 0.31587678\n",
      "Iteration 157, loss = 0.31483108\n",
      "Iteration 158, loss = 0.31429221\n",
      "Iteration 159, loss = 0.31431039\n",
      "Iteration 160, loss = 0.31390838\n",
      "Iteration 161, loss = 0.31515261\n",
      "Iteration 162, loss = 0.31496948\n",
      "Iteration 163, loss = 0.31430234\n",
      "Iteration 164, loss = 0.31428816\n",
      "Iteration 165, loss = 0.31399631\n",
      "Iteration 166, loss = 0.31384807\n",
      "Iteration 167, loss = 0.31412755\n",
      "Iteration 168, loss = 0.31313321\n",
      "Iteration 169, loss = 0.31344627\n",
      "Iteration 170, loss = 0.31334794\n",
      "Iteration 171, loss = 0.31353964\n",
      "Iteration 172, loss = 0.31300673\n",
      "Iteration 173, loss = 0.31335452\n",
      "Iteration 174, loss = 0.31262908\n",
      "Iteration 175, loss = 0.31308102\n",
      "Iteration 176, loss = 0.31218705\n",
      "Iteration 177, loss = 0.31333646\n",
      "Iteration 178, loss = 0.31290725\n",
      "Iteration 179, loss = 0.31225864\n",
      "Iteration 180, loss = 0.31289682\n",
      "Iteration 181, loss = 0.31172970\n",
      "Iteration 182, loss = 0.31257838\n",
      "Iteration 183, loss = 0.31239468\n",
      "Iteration 184, loss = 0.31202010\n",
      "Iteration 185, loss = 0.31312453\n",
      "Iteration 186, loss = 0.31228660\n",
      "Iteration 187, loss = 0.31236742\n",
      "Iteration 188, loss = 0.31145883\n",
      "Iteration 189, loss = 0.31116065\n",
      "Iteration 190, loss = 0.31127781\n",
      "Iteration 191, loss = 0.31096846\n",
      "Iteration 192, loss = 0.31097793\n",
      "Iteration 193, loss = 0.31083495\n",
      "Iteration 194, loss = 0.31116383\n",
      "Iteration 195, loss = 0.31087913\n",
      "Iteration 196, loss = 0.31158754\n",
      "Iteration 197, loss = 0.31073543\n",
      "Iteration 198, loss = 0.31071371\n",
      "Iteration 199, loss = 0.31092716\n",
      "Iteration 200, loss = 0.31143599\n",
      "Iteration 201, loss = 0.31014658\n",
      "Iteration 202, loss = 0.31021904\n",
      "Iteration 203, loss = 0.30963638\n",
      "Iteration 204, loss = 0.30940601\n",
      "Iteration 205, loss = 0.31004371\n",
      "Iteration 206, loss = 0.30986955\n",
      "Iteration 207, loss = 0.30979799\n",
      "Iteration 208, loss = 0.30981980\n",
      "Iteration 209, loss = 0.30984133\n",
      "Iteration 210, loss = 0.31021560\n",
      "Iteration 211, loss = 0.30975876\n",
      "Iteration 212, loss = 0.30939220\n",
      "Iteration 213, loss = 0.30960805\n",
      "Iteration 214, loss = 0.30974314\n",
      "Iteration 215, loss = 0.30868475\n",
      "Iteration 216, loss = 0.30897989\n",
      "Iteration 217, loss = 0.30928052\n",
      "Iteration 218, loss = 0.30892929\n",
      "Iteration 219, loss = 0.30863679\n",
      "Iteration 220, loss = 0.30914737\n",
      "Iteration 221, loss = 0.30887864\n",
      "Iteration 222, loss = 0.30877050\n",
      "Iteration 223, loss = 0.30783642\n",
      "Iteration 224, loss = 0.30870893\n",
      "Iteration 225, loss = 0.30856517\n",
      "Iteration 226, loss = 0.30814022\n",
      "Iteration 227, loss = 0.30842572\n",
      "Iteration 228, loss = 0.30787924\n",
      "Iteration 229, loss = 0.30842554\n",
      "Iteration 230, loss = 0.30735272\n",
      "Iteration 231, loss = 0.30817310\n",
      "Iteration 232, loss = 0.30697161\n",
      "Iteration 233, loss = 0.30866910\n",
      "Iteration 234, loss = 0.30767369\n",
      "Iteration 235, loss = 0.30749912\n",
      "Iteration 236, loss = 0.30783255\n",
      "Iteration 237, loss = 0.30740248\n",
      "Iteration 238, loss = 0.30718447\n",
      "Iteration 239, loss = 0.30816924\n",
      "Iteration 240, loss = 0.30762408\n",
      "Iteration 241, loss = 0.30678734\n",
      "Iteration 242, loss = 0.30647922\n",
      "Iteration 243, loss = 0.30772822\n",
      "Iteration 244, loss = 0.30747905\n",
      "Iteration 245, loss = 0.30604841\n",
      "Iteration 246, loss = 0.30749996\n",
      "Iteration 247, loss = 0.30661663\n",
      "Iteration 248, loss = 0.30659083\n",
      "Iteration 249, loss = 0.30673201\n",
      "Iteration 250, loss = 0.30686875\n",
      "Iteration 251, loss = 0.30627176\n",
      "Iteration 252, loss = 0.30669526\n",
      "Iteration 253, loss = 0.30638610\n",
      "Iteration 254, loss = 0.30586220\n",
      "Iteration 255, loss = 0.30668122\n",
      "Iteration 256, loss = 0.30640481\n",
      "Iteration 257, loss = 0.30600393\n",
      "Iteration 258, loss = 0.30553757\n",
      "Iteration 259, loss = 0.30605208\n",
      "Iteration 260, loss = 0.30553739\n",
      "Iteration 261, loss = 0.30630638\n",
      "Iteration 262, loss = 0.30587539\n",
      "Iteration 263, loss = 0.30606580\n",
      "Iteration 264, loss = 0.30597205\n",
      "Iteration 265, loss = 0.30485426\n",
      "Iteration 266, loss = 0.30544546\n",
      "Iteration 267, loss = 0.30517014\n",
      "Iteration 268, loss = 0.30540567\n",
      "Iteration 269, loss = 0.30536999\n",
      "Iteration 270, loss = 0.30587558\n",
      "Iteration 271, loss = 0.30502071\n",
      "Iteration 272, loss = 0.30509205\n",
      "Iteration 273, loss = 0.30458323\n",
      "Iteration 274, loss = 0.30525400\n",
      "Iteration 275, loss = 0.30448661\n",
      "Iteration 276, loss = 0.30584642\n",
      "Iteration 277, loss = 0.30527698\n",
      "Iteration 278, loss = 0.30432176\n",
      "Iteration 279, loss = 0.30565149\n",
      "Iteration 280, loss = 0.30555493\n",
      "Iteration 281, loss = 0.30468303\n",
      "Iteration 282, loss = 0.30391147\n",
      "Iteration 283, loss = 0.30528940\n",
      "Iteration 284, loss = 0.30440273\n",
      "Iteration 285, loss = 0.30442518\n",
      "Iteration 286, loss = 0.30373638\n",
      "Iteration 287, loss = 0.30437315\n",
      "Iteration 288, loss = 0.30475416\n",
      "Iteration 289, loss = 0.30431035\n",
      "Iteration 290, loss = 0.30368172\n",
      "Iteration 291, loss = 0.30407678\n",
      "Iteration 292, loss = 0.30336207\n",
      "Iteration 293, loss = 0.30321541\n",
      "Iteration 294, loss = 0.30531888\n",
      "Iteration 295, loss = 0.30530649\n",
      "Iteration 296, loss = 0.30361290\n",
      "Iteration 297, loss = 0.30446433\n",
      "Iteration 298, loss = 0.30373900\n",
      "Iteration 299, loss = 0.30414815\n",
      "Iteration 300, loss = 0.30332241\n",
      "Iteration 301, loss = 0.30424536\n",
      "Iteration 302, loss = 0.30315602\n",
      "Iteration 303, loss = 0.30379011\n",
      "Iteration 304, loss = 0.30352150\n",
      "Training loss did not improve more than tol=0.000100 for 10 consecutive epochs. Stopping.\n",
      "Accuracy: 0.878589621934775\n"
     ]
    }
   ],
   "source": [
    "# Split the dataset into training and testing sets\n",
    "X = df.drop('readmitted', axis=1)\n",
    "y = df['readmitted']\n",
    "X_train, X_test, y_train, y_test = train_test_split(X, y, test_size=0.2, random_state=42)\n",
    "\n",
    "# Get the categorical features\n",
    "cat_features = ['race', 'gender', 'diag_1', 'diag_2', 'diag_3']\n",
    "num_features = ['age', 'admission_type_id', 'discharge_disposition_id', 'admission_source_id', 'time_in_hospital', 'num_lab_procedures', 'num_procedures', 'num_medications', 'number_outpatient', 'number_emergency', 'number_inpatient', 'number_diagnoses', 'max_glu_serum', 'A1Cresult', 'metformin', 'repaglinide', 'nateglinide', 'chlorpropamide', 'glimepiride', 'acetohexamide', 'glipizide', 'glyburide', 'tolbutamide', 'pioglitazone', 'rosiglitazone', 'acarbose', 'miglitol', 'troglitazone', 'tolazamide','insulin', 'glyburide-metformin', 'glipizide-metformin', 'glimepiride-pioglitazone', 'metformin-rosiglitazone', 'metformin-pioglitazone', 'change', 'diabetesMed']\n",
    "\n",
    "encoder = LabelEncoder()\n",
    "\n",
    "# Encode the categorical features in the training and testing data\n",
    "for feature in cat_features:\n",
    "    X_train[feature] = encoder.fit_transform(X_train[feature])\n",
    "    X_test[feature] = encoder.transform(X_test[feature])\n",
    "\n",
    "# Build the neural network model\n",
    "model = MLPClassifier(hidden_layer_sizes=(100, 50), max_iter=400, alpha=0.0001, solver='adam', verbose=10,  random_state=42, tol=0.0001)\n",
    "model.fit(X_train, y_train)\n",
    "\n",
    "# Make predictions on the testing set\n",
    "y_pred = model.predict(X_test)\n",
    "\n",
    "# Evaluate the model's accuracy\n",
    "accuracy = accuracy_score(y_test, y_pred)\n",
    "print(\"Accuracy:\", accuracy)"
   ]
  },
  {
   "cell_type": "code",
   "execution_count": 38,
   "metadata": {},
   "outputs": [
    {
     "name": "stdout",
     "output_type": "stream",
     "text": [
      "              precision    recall  f1-score   support\n",
      "\n",
      "           0       0.89      0.98      0.94     17792\n",
      "           1       0.21      0.03      0.06      2231\n",
      "\n",
      "    accuracy                           0.88     20023\n",
      "   macro avg       0.55      0.51      0.50     20023\n",
      "weighted avg       0.82      0.88      0.84     20023\n",
      "\n"
     ]
    }
   ],
   "source": [
    "# Report the performance of the neural network model\n",
    "print(classification_report(y_test, y_pred))"
   ]
  },
  {
   "attachments": {},
   "cell_type": "markdown",
   "metadata": {},
   "source": [
    "### K-means"
   ]
  },
  {
   "cell_type": "code",
   "execution_count": 39,
   "metadata": {},
   "outputs": [
    {
     "name": "stderr",
     "output_type": "stream",
     "text": [
      "c:\\Users\\mokht\\AppData\\Local\\Programs\\Python\\Python39\\lib\\site-packages\\sklearn\\cluster\\_kmeans.py:870: FutureWarning: The default value of `n_init` will change from 10 to 'auto' in 1.4. Set the value of `n_init` explicitly to suppress the warning\n",
      "  warnings.warn(\n"
     ]
    },
    {
     "name": "stdout",
     "output_type": "stream",
     "text": [
      "1    52265\n",
      "0    47846\n",
      "Name: cluster, dtype: int64\n"
     ]
    }
   ],
   "source": [
    "for feature in cat_features:\n",
    "    df[feature] = encoder.fit_transform(df[feature])\n",
    "\n",
    "features = cat_features + num_features\n",
    "X = df[features]\n",
    "\n",
    "scaler = StandardScaler()\n",
    "X_scaled = scaler.fit_transform(X)\n",
    "\n",
    "# Cluster the data using KMeans\n",
    "kmeans = KMeans(n_clusters=2, random_state=42)\n",
    "kmeans.fit(X_scaled)\n",
    "\n",
    "# Get the cluster labels\n",
    "labels = kmeans.labels_\n",
    "df['cluster'] = labels\n",
    "print(df['cluster'].value_counts())"
   ]
  }
 ],
 "metadata": {
  "colab": {
   "provenance": []
  },
  "kernelspec": {
   "display_name": "Python 3 (ipykernel)",
   "language": "python",
   "name": "python3"
  },
  "language_info": {
   "codemirror_mode": {
    "name": "ipython",
    "version": 3
   },
   "file_extension": ".py",
   "mimetype": "text/x-python",
   "name": "python",
   "nbconvert_exporter": "python",
   "pygments_lexer": "ipython3",
   "version": "3.9.0"
  }
 },
 "nbformat": 4,
 "nbformat_minor": 1
}
